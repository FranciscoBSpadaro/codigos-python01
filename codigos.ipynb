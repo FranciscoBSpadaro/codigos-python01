{
 "cells": [
  {
   "cell_type": "markdown",
   "metadata": {},
   "source": [
    "### Cadastro de produtos\n",
    "  - digitar o nome do produto e a quantidade vendida e o valor unitário "
   ]
  },
  {
   "cell_type": "code",
   "execution_count": 8,
   "metadata": {},
   "outputs": [
    {
     "name": "stdout",
     "output_type": "stream",
     "text": [
      "O Produto:carro foi Vendido: 5 vezes ,  pelo valor de  R$ 599.0  e o valor total foi de : R$ 2995.00 \n",
      "O Produto:caminhao foi Vendido: 33 vezes ,  pelo valor de  R$ 12.0  e o valor total foi de : R$ 396.00 \n",
      "O Produto:sorvete foi Vendido: 55 vezes ,  pelo valor de  R$ 100.0  e o valor total foi de : R$ 5500.00 \n",
      "O Valor Total de todas as Vendas é de  R$ 8891.00 \n"
     ]
    }
   ],
   "source": [
    "produtos = []\n",
    "quantidade = []\n",
    "valor = []\n",
    "resultado = []\n",
    "\n",
    "\n",
    "\n",
    "\n",
    "for cont in range(0,3):\n",
    "    produtos.append(str(input('Digite o produto:')))\n",
    "    quantidade.append(int(input('Digite a quantidade:')))\n",
    "    valor.append(float(input('Digite o Valor :').replace(',', '.')))\n",
    "    \n",
    "for x,y in enumerate(valor): \n",
    "     resultado.append(y*quantidade[x])\n",
    "\n",
    "\n",
    "print(f'O Produto:{produtos[0]} foi Vendido: {quantidade[0]} vezes ,  pelo valor de  R$ {valor[0]}  e o valor total foi de : R$ {resultado[0]:.2f} ')\n",
    "print(f'O Produto:{produtos[1]} foi Vendido: {quantidade[1]} vezes ,  pelo valor de  R$ {valor[1]}  e o valor total foi de : R$ {resultado[1]:.2f} ')\n",
    "print(f'O Produto:{produtos[2]} foi Vendido: {quantidade[2]} vezes ,  pelo valor de  R$ {valor [2]}  e o valor total foi de : R$ {resultado[2]:.2f} ')\n",
    "print(f'O Valor Total de todas as Vendas é de  R$ {(sum(resultado)):.2f} ' )"
   ]
  },
  {
   "cell_type": "markdown",
   "metadata": {},
   "source": [
    "- produtos = [] está entre colchetes pois é uma lista mutável assim como quantidade valor e resultado.\n",
    "- for cont in range (0,3): função for percorre índices de 0 a 3 pois temos 3 itens na lista porem o terceiro item vai para o índice 2 pois o primeiro item cai no índice 0 função append insere o valor digitado na lista referente , produtos.append recebe um valor str = string = texto . input abre janela para digitar o produto. int = integer ou seja numero inteiro e float = numero real .\n",
    "- Função enumerate , Percorre o Array enumerando suas posições x e y é só um parâmetro para valor e quantidade\n",
    "- resultado.append(yquantidade[x]) = adiciona o resultado da multiplicação de valor e quantidade na lista resultado e y é valor quantidade e [x] é os valores da multiplicação que vai nos índices da lista resultado\n",
    "- .replace(',', '.') substitui virgula por ponto para evitar erros caso o usuário digitar virgulas nos valores\n",
    "- função sum soma todos os valores dos índices da lista resultado\n",
    "- o resultado onde aparece o valor de 41.300000... foi exibido dessa forma pois o print nao usou o metodo de formatar números float , para corrigir basta escrever o código dessa forma , {resultado[2]:.2f} ') adicionando o parâmetro :.2f , porem já atualizei o código para exibir o output da melhor forma diferente da foto\n",
    "\n",
    "lista completa para formatar prints : https://mkaz.blog/code/python-string-format-cookbook/"
   ]
  },
  {
   "cell_type": "markdown",
   "metadata": {},
   "source": [
    "### O Clássico Calculo de média de notas"
   ]
  },
  {
   "cell_type": "code",
   "execution_count": 9,
   "metadata": {},
   "outputs": [
    {
     "name": "stdout",
     "output_type": "stream",
     "text": [
      "A Média final é 8.00\n"
     ]
    }
   ],
   "source": [
    "materias = int(input('Digite a quantidade de materias '))\n",
    "notas = []\n",
    "\n",
    "for c in range (0,materias):\n",
    "    notas.append(float(input('Digite as notas :').replace(',', '.')))\n",
    "\n",
    "resultado = (sum(notas) / (materias))\n",
    "\n",
    "\n",
    "print(f'A Média final é {resultado:.2f}')"
   ]
  },
  {
   "cell_type": "markdown",
   "metadata": {},
   "source": [
    "Apenas soma as notas e divide pela quantidade de materias  , é possivel melhorar o código para printar nome das matérias e o resultado final"
   ]
  },
  {
   "cell_type": "markdown",
   "metadata": {},
   "source": [
    "### Código Python Para Calcular a Sequência de Fibonacci\n",
    "    - Antes de elaborar o código foi preciso entender a logica da sequencia de Fibonacci , Na matemática, a Sequência de Fibonacci é uma sequência de números inteiros , começando normalmente por 0 e 1, na qual, cada termo subsequente corresponde à soma dos dois anteriores.\n",
    "   - Quando o código é iniciado o Python executa as primeiras linhas do código onde o print exibe o valor de termo0 e termo1 onde estão com o valor declarado de 0 e 1\n",
    "  porem quando o código chega na estrutura de repetição while o código só vai rodar oque está dentro da estrutura do escopo do while que vai dar um looping de repetição pela quantidade definida pela variável ' termos ' onde o usuário ira digitar quantos termos devem ser exibidos na tela , então o código não vai ser executado desde as primeiras linhas e sim a sequencia vai sendo impressa na tela a cada looping de repetição do while , onde o valor do termo 0 passar a ser o valor do termo1 e o termo1 passa a ter o valor do termox que é a soma de termo0 e termo1 e assim por diante.\n",
    "  - Contador = 3 , o contador foi definido a partir do 3 pois a soma já foi iniciada quando foi definido o valor do termo 0 e 1 e o termox .\n",
    "  - e a linha de código ' print('→ {} '.format(termox), end=\"\") ' fica no meio da estrutura do while pois é dessa forma que o print ira imprimir um termo a cada sequencia de looping , pois se fosse colocado no final do código ele só iria colocar o valor total de todas as sequencias e o parâmetro ' end=\"\" , faz com que cada termo seja impresso na mesma linha em sequência."
   ]
  },
  {
   "cell_type": "code",
   "execution_count": 1,
   "metadata": {},
   "outputs": [
    {
     "name": "stdout",
     "output_type": "stream",
     "text": [
      "0\n",
      "1\n",
      "1\n",
      "2\n",
      "3\n",
      "5\n",
      "8\n",
      "13\n",
      "21\n",
      "34\n",
      "55\n",
      "FIM\n"
     ]
    }
   ],
   "source": [
    "def fibonacci(i, b=0, c=1):\n",
    "\n",
    "    if i != 0:\n",
    "        print(b,)   \n",
    "        b = b + c               \n",
    "        c = b - c               \n",
    "        fibonacci(i-1, b=b, c=c)    \n",
    "        return 'FIM'\n",
    "\n",
    "\n",
    "print(fibonacci(int(input('Quantos termos vc quer mostrar: '))))"
   ]
  },
  {
   "cell_type": "markdown",
   "metadata": {},
   "source": [
    "- Fibonacci  ' Função Recursiva  ' \n",
    "  - A Função Recursiva recebe esse nome pois ela chama ela mesma durante o ciclo de execução.\n",
    "  - def fibonacci(i, b=0, c=1): na definição dessa função o parâmetro i é o numero inteiro que vai ser digitado no input do print , b=0 e c=1 é igual no exemplo anterior , são os parâmetros base para o calculo de Fibonacci.\n",
    "  - if i != 0: é o ponto de parada do ciclo de execução , enquanto o numero i for diferente de 0 execute o código.\n",
    "  - print(b, end=' -> ') vai imprimir na tela a sequencia fibonacci do parâmetro b , o parâmetro c não vai ser impresso pois a cada ciclo ele vai ser um numero negativo que não precisa ser exibido.\n",
    "  - fibonacci(i-1, b=b, c=c) a cada ciclo os valores dentro de Def são atualizados por esse parâmetro onde o i-1 significa que a cada ciclo vai subtrair o numero inteiro solicitado no input até chegar a 0 onde é o ponto de parada e b=b passa a receber o novo valor onde b = b+c e o c pega o novo valor onde c = b-c.\n",
    "  - A função recursiva executa o código de uma forma diferente dos exemplos anteriores , usa o método call stack ou pilha de chamadas , onde a cada ciclo o valor fica salvo na memoria\n"
   ]
  },
  {
   "cell_type": "code",
   "execution_count": 1,
   "metadata": {},
   "outputs": [
    {
     "name": "stdout",
     "output_type": "stream",
     "text": [
      "0->1->1->2->3->5->8->13->21->34->55->89->144->233->377->610->987->1597->2584->4181->6765->10946->FIM\n"
     ]
    }
   ],
   "source": [
    "def fibonacci(i, b=0, c=1):\n",
    "\n",
    "    if i != 0:                  \n",
    "        print(b, end='->')\n",
    "        b = b + c               \n",
    "        c = b - c               \n",
    "        fibonacci(i-1, b=b, c=c)   \n",
    "        return 'FIM'\n",
    "\n",
    "\n",
    "print(fibonacci(int(input('Quantos termos vc quer mostrar: '))))"
   ]
  },
  {
   "cell_type": "markdown",
   "metadata": {},
   "source": [
    "### Cálculo Fatorial\n",
    "  - Fatorial é um número natural inteiro positivo, o qual é representado por n! O fatorial de um número é calculado pela multiplicação desse número por todos os seus antecessores até chegar ao número 1.\n",
    "  - então 5x4x3x2x1 = 120\n"
   ]
  },
  {
   "cell_type": "markdown",
   "metadata": {},
   "source": [
    "### Cálculo Fatorial usando o While : "
   ]
  },
  {
   "cell_type": "code",
   "execution_count": 3,
   "metadata": {},
   "outputs": [
    {
     "name": "stdout",
     "output_type": "stream",
     "text": [
      "Fatorial de 22! 22x21x20x19x18x17x16x15x14x13x12x11x10x9x8x7x6x5x4x3x2x1=1124000727777607680000\n"
     ]
    }
   ],
   "source": [
    "contador = int(input(' Digite um número para calcular o Fatorial:'))\n",
    "fatorial = 1\n",
    "\n",
    "print(f'Fatorial de {contador}! ', end=\"\")\n",
    "\n",
    "while contador > 0:\n",
    "    print(f'{contador}', end=\"\")\n",
    "    print('x' if contador > 1 else '=' , end=\"\")\n",
    "    fatorial *= contador\n",
    "    contador -= 1\n",
    "print(f'{fatorial}') "
   ]
  },
  {
   "cell_type": "markdown",
   "metadata": {},
   "source": [
    "### explicando o código acima.\n",
    "\n",
    "- fatorial = 1 Recebe esse valor pois o Calculo Fatorial é uma Multiplicação e Não pode ter o valor de 0 igual no Calculo de Fibonacci\n",
    "\n",
    "- while contador > 0: enquanto o contador for maior que 0 execute o código abaixo\n",
    "\n",
    "- print('x' if contador > 1 else '=' , end=\"\") esse print tem operadores de comparação apenas para coloca um sinal de = quando o código chegar no contador 0\n",
    "\n",
    "- fatorial *= contador : se o contador for 5 o Python vai interpretar o código dessa forma :\n",
    "\n",
    "- 5x1x4x1x3x1x2x1 = 120 , pois o valor fatorial foi definido como 1 , porem no primeiro ciclo de execução o python calculou 5x1 = 5 e salvou o 5 na memoria como uma - calculadora faz , então quando chamou o 4x1 calculou 5x4 .\n",
    "\n",
    "- contador -= 1 : simplesmente significa que a cada repetição vai subtrair 1 do contador até chegar em 0 o ponto de parada ."
   ]
  },
  {
   "cell_type": "markdown",
   "metadata": {},
   "source": [
    "#### Fatorial usando laço For :"
   ]
  },
  {
   "cell_type": "code",
   "execution_count": 4,
   "metadata": {},
   "outputs": [
    {
     "name": "stdout",
     "output_type": "stream",
     "text": [
      "Seu fatorial é 39916800.\n"
     ]
    }
   ],
   "source": [
    "n = int(input('Digite um numero para calcular seu fatorial: '))\n",
    "f = 1\n",
    "\n",
    "for c in range (1, n):\n",
    "    f *= n\n",
    "    n -= 1\n",
    "print('Seu fatorial é {}.'.format(f))"
   ]
  },
  {
   "cell_type": "markdown",
   "metadata": {},
   "source": [
    "Utilizando a estrutura de repetição For fica mais simples e claro de entender\n",
    "\n",
    "o Python vai calcular igual ao while : ex 1x5x1x4x1x3x1x2x1x1 = 120\n",
    "\n",
    "e a lógica de execução vai seguir o mesmo padrão"
   ]
  },
  {
   "cell_type": "markdown",
   "metadata": {},
   "source": [
    "## Fatorial Modo Apelativo :)"
   ]
  },
  {
   "cell_type": "code",
   "execution_count": 5,
   "metadata": {},
   "outputs": [
    {
     "name": "stdout",
     "output_type": "stream",
     "text": [
      " O Fatorial de 12 é 479001600\n"
     ]
    }
   ],
   "source": [
    "from math import factorial\n",
    "n = int(input('Digite o número para calculo do Fatorial:'))\n",
    "f = factorial(n)\n",
    "print(f' O Fatorial de {n} é {f}')"
   ]
  },
  {
   "cell_type": "markdown",
   "metadata": {},
   "source": [
    "No exemplo acima vemos que o Python Pode usar a Biblioteca Math com o Calculo Fatorial pronto que adianta a vida do programador sem a necessidade de elaborar nenhuma logica , porem nen sempre existe uma biblioteca disponível para executar esses cálculos ."
   ]
  },
  {
   "cell_type": "markdown",
   "metadata": {},
   "source": [
    "### Fatorial recursivo :"
   ]
  },
  {
   "cell_type": "code",
   "execution_count": 6,
   "metadata": {},
   "outputs": [
    {
     "name": "stdout",
     "output_type": "stream",
     "text": [
      "1124000727777607680000\n"
     ]
    }
   ],
   "source": [
    "def fatorial(n: int) -> int:\n",
    "    if n == 1 or n == 0:\n",
    "        return 1\n",
    "    return n * fatorial(n - 1)\n",
    "\n",
    "\n",
    "if __name__ == \"__main__\":\n",
    "    fat = fatorial(int(input('Digite o número para calculo do Fatorial:')))\n",
    "    print(fat)"
   ]
  },
  {
   "cell_type": "markdown",
   "metadata": {},
   "source": [
    "Essa Função Recursiva está um pouco diferente do exemplo anterior , pois é uma recursão de 2 fatores , porem segue a mesma lógica\n",
    "\n",
    "def fatorial(n: int) -> int: Definição da função Fatorial recebe como parâmetro número inteiro e retorna numero inteiro\n",
    "\n",
    "if n == 1 or n == 0: return 1 = caso-base para parar a recursão, retornar um valor real e resolver as equações (quando chegarmos em 1) ponto de parada\n",
    "\n",
    "return n fatorial(n - 1) = **retorna n (ex 5 ) Fatorial é o nome da Def quem tem parâmetro ( n - 1 ) retira -1 a cada ciclo para zerar o contador até concluir o calculo onde n é o numero do fatorial digitado no input**\n",
    "\n",
    "então na primeira chamada ficou 5x4 pois o parâmetro n -1 fez a subtração\n",
    "\n",
    "porem nesse caso a call stack vai executar o código dessa maneira depois de todos os ciclos forem salvos na memoria 1x2 ' 2 ' 2x3 ' 6 ' 6x4 ' 24 ' 24x5 ' 120 ' a cada calculo a stack vai sendo apagada da memoria , a função recursiva faz o calculo 1 de cada vez\n",
    "\n",
    "melhor forma de observar como um código sendo executado é utilizando o debuger do vscode por exemplo\n",
    "\n",
    "obs existe um limite de valores para serem executados no call stack que é de 1000 e o python protege o código de um possível looping infinito\n",
    "\n",
    "funções recursivas geralmente consomem muita memoria e devem ser utilizada em programações funcionais , fora isso o tradicional é programar usando um laço ' for ' se for utilizado mais de 1000 interações por exemplo ou usar o looping com while"
   ]
  },
  {
   "cell_type": "markdown",
   "metadata": {},
   "source": [
    "### Como exibir as linhas de um arquivo txt usando Python ?"
   ]
  },
  {
   "cell_type": "code",
   "execution_count": 7,
   "metadata": {},
   "outputs": [
    {
     "name": "stdout",
     "output_type": "stream",
     "text": [
      "Line1: Mary had a little lamb\n",
      "Line2: Whose fleece was white as snow\n",
      "Line3: And everywhere that may went\n",
      "Line4: The lamb was sure to go!\n"
     ]
    }
   ],
   "source": [
    "file1 = open('Mary_Lamb.txt', 'r') \n",
    "Lines = file1.readlines() \n",
    "  \n",
    "count = 0\n",
    "\n",
    "for line in Lines: \n",
    "    count += 1\n",
    "    print(\"Line{}: {}\".format(count, line.strip())) \n",
    "    file1.close()"
   ]
  },
  {
   "cell_type": "markdown",
   "metadata": {},
   "source": [
    "Acho que não preciso explicar muito , na parte inicial do código foi colocado o nome do arquivo txt que está na mesma pasta do Python e o método readlines faz a leitura de todas as linhas e o .strip fez uma copia de cada linha pra ser possível contar e separar as linhas\n",
    "\n",
    "f.close() é um boa pratica fechar um arquivo depois de aberto no final do código."
   ]
  }
 ],
 "metadata": {
  "kernelspec": {
   "display_name": "Python 3",
   "language": "python",
   "name": "python3"
  },
  "language_info": {
   "codemirror_mode": {
    "name": "ipython",
    "version": 3
   },
   "file_extension": ".py",
   "mimetype": "text/x-python",
   "name": "python",
   "nbconvert_exporter": "python",
   "pygments_lexer": "ipython3",
   "version": "3.11.3"
  }
 },
 "nbformat": 4,
 "nbformat_minor": 2
}
